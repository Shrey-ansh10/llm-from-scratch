{
 "cells": [
  {
   "cell_type": "markdown",
   "id": "6d5a4174",
   "metadata": {
    "lines_to_next_cell": 0
   },
   "source": [
    "\n",
    "### 🐍 Python Code Explanation Cheat Sheet\n",
    "\n",
    "This cheat sheet helps you write clear, professional explanations of common Python code patterns.\n",
    "\n",
    "---\n",
    "\n",
    "#### 🔹 1. List Comprehensions\n",
    "\n",
    "**Pattern:**"
   ]
  },
  {
   "cell_type": "code",
   "execution_count": null,
   "id": "d63e85b4",
   "metadata": {},
   "outputs": [],
   "source": [
    "[expression for item in iterable if condition]"
   ]
  },
  {
   "cell_type": "markdown",
   "id": "6115a6d7",
   "metadata": {
    "lines_to_next_cell": 0
   },
   "source": [
    "**Professional Explanation:**\n",
    "> This list comprehension iterates over each element in `iterable`, applies `expression` to it, and includes the result in the new list **only if** the element satisfies the given `condition`.\n",
    "\n",
    "---\n",
    "\n",
    "#### 🔹 2. String Methods (e.g., `strip()`, `lower()`, `replace()`)\n",
    "\n",
    "**Pattern:**"
   ]
  },
  {
   "cell_type": "code",
   "execution_count": null,
   "id": "0afafaf6",
   "metadata": {},
   "outputs": [],
   "source": [
    "item.strip()"
   ]
  },
  {
   "cell_type": "markdown",
   "id": "798bbc75",
   "metadata": {
    "lines_to_next_cell": 0
   },
   "source": [
    "**Professional Explanation:**\n",
    "> The `strip()` method is a built-in string function that removes any leading and trailing whitespace from the given string.\n",
    "\n",
    "---\n",
    "\n",
    "#### 🔹 3. Dictionary Comprehensions\n",
    "\n",
    "**Pattern:**"
   ]
  },
  {
   "cell_type": "code",
   "execution_count": null,
   "id": "b8f92682",
   "metadata": {},
   "outputs": [],
   "source": [
    "{key: value for item in iterable if condition}"
   ]
  },
  {
   "cell_type": "markdown",
   "id": "d974a456",
   "metadata": {
    "lines_to_next_cell": 0
   },
   "source": [
    "**Professional Explanation:**\n",
    "> This creates a new dictionary by iterating through `iterable`, evaluating a key-value pair from each item, and including it only if the specified `condition` is met.\n",
    "\n",
    "---\n",
    "\n",
    "#### 🔹 4. Lambda Functions\n",
    "\n",
    "**Pattern:**"
   ]
  },
  {
   "cell_type": "code",
   "execution_count": null,
   "id": "356c4bc4",
   "metadata": {},
   "outputs": [],
   "source": [
    "lambda x: x + 1"
   ]
  },
  {
   "cell_type": "markdown",
   "id": "bc01c480",
   "metadata": {
    "lines_to_next_cell": 0
   },
   "source": [
    "**Professional Explanation:**\n",
    "> This defines an anonymous function that takes a single argument and returns its value incremented by one.\n",
    "\n",
    "---\n",
    "\n",
    "#### 🔹 5. Filtering with `filter()`\n",
    "\n",
    "**Pattern:**"
   ]
  },
  {
   "cell_type": "code",
   "execution_count": null,
   "id": "4406e8ca",
   "metadata": {},
   "outputs": [],
   "source": [
    "filter(lambda x: x > 0, data)"
   ]
  },
  {
   "cell_type": "markdown",
   "id": "6c3daebb",
   "metadata": {
    "lines_to_next_cell": 0
   },
   "source": [
    "**Professional Explanation:**\n",
    "> The `filter()` function returns an iterator containing only the elements from `data` for which the lambda function returns `True`.\n",
    "\n",
    "---\n",
    "\n",
    "#### 🔹 6. Mapping with `map()`\n",
    "\n",
    "**Pattern:**"
   ]
  },
  {
   "cell_type": "code",
   "execution_count": null,
   "id": "029ddb08",
   "metadata": {},
   "outputs": [],
   "source": [
    "map(lambda x: x * 2, data)"
   ]
  },
  {
   "cell_type": "markdown",
   "id": "88b968cb",
   "metadata": {
    "lines_to_next_cell": 0
   },
   "source": [
    "**Professional Explanation:**\n",
    "> The `map()` function applies the lambda function to each element in `data`, producing an iterator with the transformed values.\n",
    "\n",
    "---\n",
    "\n",
    "#### 🔹 7. Using `zip()`\n",
    "\n",
    "**Pattern:**"
   ]
  },
  {
   "cell_type": "code",
   "execution_count": null,
   "id": "a52d9cfa",
   "metadata": {},
   "outputs": [],
   "source": [
    "zip(list1, list2)"
   ]
  },
  {
   "cell_type": "markdown",
   "id": "9168a8b9",
   "metadata": {
    "lines_to_next_cell": 0
   },
   "source": [
    "**Professional Explanation:**\n",
    "> The `zip()` function pairs elements from multiple iterables together into tuples, creating a combined iterable where each tuple contains one element from each source iterable.\n",
    "\n",
    "---\n",
    "\n",
    "#### 🔹 8. Exception Handling\n",
    "\n",
    "**Pattern:**"
   ]
  },
  {
   "cell_type": "code",
   "execution_count": null,
   "id": "7e3b5986",
   "metadata": {},
   "outputs": [],
   "source": [
    "try:\n",
    "    # code\n",
    "except SomeError:\n",
    "    # handle error"
   ]
  },
  {
   "cell_type": "markdown",
   "id": "1b77c50d",
   "metadata": {
    "lines_to_next_cell": 0
   },
   "source": [
    "**Professional Explanation:**\n",
    "> This block attempts to execute the code inside the `try` clause and catches any exceptions of type `SomeError`, allowing the program to handle errors gracefully instead of crashing.\n",
    "\n",
    "---\n",
    "\n",
    "#### 🔹 9. Function Definition\n",
    "\n",
    "**Pattern:**"
   ]
  },
  {
   "cell_type": "code",
   "execution_count": null,
   "id": "4349a38d",
   "metadata": {},
   "outputs": [],
   "source": [
    "def greet(name):\n",
    "    return f\"Hello, {name}\""
   ]
  },
  {
   "cell_type": "markdown",
   "id": "86b42c18",
   "metadata": {
    "lines_to_next_cell": 0
   },
   "source": [
    "**Professional Explanation:**\n",
    "> This function `greet()` accepts a parameter called `name` and returns a greeting string that includes the provided name using f-string formatting.\n",
    "\n",
    "---\n",
    "\n",
    "#### 🔹 10. List Slicing\n",
    "\n",
    "**Pattern:**"
   ]
  },
  {
   "cell_type": "code",
   "execution_count": null,
   "id": "b67b87bc",
   "metadata": {},
   "outputs": [],
   "source": [
    "my_list[1:4]"
   ]
  },
  {
   "cell_type": "markdown",
   "id": "f11ca1c7",
   "metadata": {},
   "source": [
    "**Professional Explanation:**\n",
    "> This retrieves a sublist from `my_list`, starting from index 1 (inclusive) up to index 4 (exclusive).\n",
    "\n",
    "---\n",
    "\n",
    "### ✍️ Tips for Writing Clear Explanations\n",
    "\n",
    "| Technique | How to Use It |\n",
    "|----------|---------------|\n",
    "| ✅ Use full sentences | Avoid abbreviations like \"func\" — say “function” |\n",
    "| ✅ Define technical terms | e.g., \"iterator\", \"expression\", \"condition\" |\n",
    "| ✅ Use examples when needed | Helps make it concrete |\n",
    "| ✅ Be precise, but not overly complex | Keep it simple unless detail is required |\n",
    "| ✅ Use \"This does...\" instead of \"It does...\" | Improves clarity and flow |"
   ]
  }
 ],
 "metadata": {
  "jupytext": {
   "cell_metadata_filter": "-all",
   "main_language": "python",
   "notebook_metadata_filter": "-all"
  },
  "kernelspec": {
   "display_name": "Python (llm-env)",
   "language": "python",
   "name": "llm-env"
  },
  "language_info": {
   "codemirror_mode": {
    "name": "ipython",
    "version": 3
   },
   "file_extension": ".py",
   "mimetype": "text/x-python",
   "name": "python",
   "nbconvert_exporter": "python",
   "pygments_lexer": "ipython3",
   "version": "3.12.10"
  }
 },
 "nbformat": 4,
 "nbformat_minor": 5
}
